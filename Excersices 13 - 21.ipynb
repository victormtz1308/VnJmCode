{
 "cells": [
  {
   "cell_type": "markdown",
   "metadata": {},
   "source": [
    "# Parameters, Unpacking, Variables\n"
   ]
  },
  {
   "cell_type": "markdown",
   "metadata": {},
   "source": [
    "In this exercise we will cover one more input method you can use to pass variables to a script(script being another name for your .py files). You know how you type python3.6 ex13.py to run the ex13.py file? Well theex13.pypart of the command is called an ”argument.” What we’ll do now is write a script that also accepts arguments.\n",
    "Type this program and I’ll explain it in detail:\n"
   ]
  },
  {
   "cell_type": "code",
   "execution_count": 1,
   "metadata": {
    "collapsed": true
   },
   "outputs": [
    {
     "ename": "SyntaxError",
     "evalue": "invalid syntax (<ipython-input-1-283e48e338b0>, line 1)",
     "output_type": "error",
     "traceback": [
      "\u001b[1;36m  File \u001b[1;32m\"<ipython-input-1-283e48e338b0>\"\u001b[1;36m, line \u001b[1;32m1\u001b[0m\n\u001b[1;33m    1 from sys import argv\u001b[0m\n\u001b[1;37m         ^\u001b[0m\n\u001b[1;31mSyntaxError\u001b[0m\u001b[1;31m:\u001b[0m invalid syntax\n"
     ]
    }
   ],
   "source": [
    "1 from sys import argv \n",
    "2 # read the WYSS section for how to run this \n",
    "3 script, first, second, third = argv\n",
    "4 \n",
    "5 print(\"The script is called:\", script) \n",
    "6 print(\"Your first variable is:\", first) \n",
    "7 print(\"Your second variable is:\", second) \n",
    "8 print(\"Your third variable is:\", third)"
   ]
  },
  {
   "cell_type": "markdown",
   "metadata": {},
   "source": [
    "# Prompting and Passing\n"
   ]
  },
  {
   "cell_type": "markdown",
   "metadata": {},
   "source": [
    "Let’s do one exercise that uses argv and input together to ask the user something specific. You will need this for the next exercise where you learn to read and write files. In this exercise we’ll use input slightly differently by having it print a simple > prompt.\n"
   ]
  },
  {
   "cell_type": "code",
   "execution_count": null,
   "metadata": {},
   "outputs": [],
   "source": [
    "1 from sys import argv\n",
    "2 \n",
    "3 script, user_name = argv \n",
    "4 prompt = '> '\n",
    "5 \n",
    "6 print(f\"Hi {user_name}, I'm the {script} script.\") \n",
    "7 print(\"I'd like to ask you a few questions.\") \n",
    "8 print(f\"Do you like me {user_name}?\") \n",
    "9 likes = input(prompt)\n",
    "10 \n",
    "11 print(f\"Where do you live {user_name}?\") \n",
    "12 lives = input(prompt)\n",
    "13 \n",
    "14 print(\"What kind of computer do you have?\") \n",
    "15 computer = input(prompt)\n",
    "16 \n",
    "17 print(f\"\"\" \n",
    "18 Alright, so you said {likes} about liking me. \n",
    "19 You live in {lives}. Not sure where that is. \n",
    "20 And you have a {computer} computer. Nice. \n",
    "21 \"\"\")"
   ]
  },
  {
   "cell_type": "markdown",
   "metadata": {},
   "source": [
    "# Reading Files\n"
   ]
  },
  {
   "cell_type": "markdown",
   "metadata": {},
   "source": [
    "You know how to get input from a user with input or argv. Now you will learn about reading from a file. You may have to play with this exercise the most to understand what’s going on, so do the exercise carefully and remember your checks. Working with files is an easy way to erase your work if you are not careful.\n",
    "This exercise involves writing two files. One is the usual ex15.py file that you will run, but the other is namedex15_sample.txt. Thissecondfileisn’tascriptbutaplaintextfilewe’llbereadinginourscript. Here are the contents of that file: This is stuff I typed into a file . It is really cool stuff . Lots and lots of fun to have in here.\n",
    "What we want to do is ”open” that file in our script and print it out. However, we do not want to just ”hard code” the name ex15_sample.txt into our script. ”Hard coding” means putting some bit of information that should come from the user as a string directly in our source code. That’s bad because we wantitto load other files later. Thesolution is to useargvorinputtoaskthe user whatfileto open instead of ”hard coding” the file’s name. "
   ]
  },
  {
   "cell_type": "code",
   "execution_count": null,
   "metadata": {},
   "outputs": [],
   "source": [
    "1 from sys import argv\n",
    "2 \n",
    "3 script, filename = argv\n",
    "4 \n",
    "5 txt = open(filename)\n",
    "6 \n",
    "7 print(f\"Here's your file {filename}:\") \n",
    "8 print(txt.read())\n",
    "9 \n",
    "10 print(\"Type the filename again:\") \n",
    "11 file_again = input(\"> \")\n",
    "12 \n",
    "13 txt_again = open(file_again)\n",
    "14 \n",
    "15 print(txt_again.read())"
   ]
  },
  {
   "cell_type": "markdown",
   "metadata": {},
   "source": [
    "# Reading and Writing Files\n"
   ]
  },
  {
   "cell_type": "markdown",
   "metadata": {},
   "source": [
    "If you did the Study Drills from the last exercise, you should have seen all sorts of commands (methods/functions) you can give to files. Here’s the list of commands I want you to remember:\n",
    "• close – Closes the file. Like File->Save.. in your editor.\n",
    "• read – Reads the contents of the file. You can assign the result to a variable.\n",
    "• readline – Reads just one line of a text file.\n",
    "• truncate – Empties the file. Watch out if you care about the file.\n",
    "• write('stuff') – Writes ”stuff” to the file.\n",
    "• seek(0) – Move the read/write location to the beginning of the file.\n",
    "One way to remember what each of these does is to think of a vinyl record, cassette tape, VHS tape, DVD, or CD player. In the early days of computers data was stored on each of these kinds of media, so many of the file operations still resemble a storage system that is linear. Tape and DVD drives need to ”seek” a specific spot, and then you can read or write at that spot. Today we have operating systems and storage media that blur the lines between random access memory and disk drives, but we still use the older idea of a linear tape with a read/write head that must be moved.\n",
    "For now, these are the important commands you need to know. Some of them take parameters, but we do not really care about that. You only need to remember that write takes a parameter of a string you want to write to the file.\n",
    "Let’s use some of this to make a simple little text editor:"
   ]
  },
  {
   "cell_type": "code",
   "execution_count": null,
   "metadata": {},
   "outputs": [],
   "source": [
    "1 from sys import argv\n",
    "2 \n",
    "3 script, filename = argv\n",
    "4 \n",
    "5 print(f\"We're going to erase {filename}.\") \n",
    "6 print(\"If you don't want that, hit CTRL-C (^C).\") \n",
    "7 print(\"If you do want that, hit RETURN.\")\n",
    "8 \n",
    "9 input(\"?\")\n",
    "10 \n",
    "11 print(\"Opening the file...\") \n",
    "12 target = open(filename, 'w')\n",
    "13\n",
    "14 print(\"Truncating the file. Goodbye!\") \n",
    "15 target.truncate()\n",
    "16 \n",
    "17 print(\"Now I'm going to ask you for three lines.\")\n",
    "18 \n",
    "19 line1 = input(\"line 1: \") \n",
    "20 line2 = input(\"line 2: \") \n",
    "21 line3 = input(\"line 3: \")\n",
    "22 \n",
    "23 print(\"I'm going to write these to the file.\")\n",
    "24 \n",
    "25 target.write(line1) \n",
    "26 target.write(\"\\n\") \n",
    "27 target.write(line2) \n",
    "28 target.write(\"\\n\") \n",
    "29 target.write(line3) \n",
    "30 target.write(\"\\n\")\n",
    "31 \n",
    "32 print(\"And finally, we close it.\") \n",
    "33 target.close()"
   ]
  },
  {
   "cell_type": "markdown",
   "metadata": {},
   "source": [
    "# More Files\n"
   ]
  },
  {
   "cell_type": "markdown",
   "metadata": {},
   "source": [
    "Now let’s do a few more things with files. We’ll write a Python script to copy one file to another. It’ll be very short but will give you ideas about other things you can do with files.\n"
   ]
  },
  {
   "cell_type": "code",
   "execution_count": null,
   "metadata": {},
   "outputs": [],
   "source": [
    "1 from sys import argv \n",
    "\n",
    "2 from os.path import exists\n",
    "3 \n",
    "4 script, from_file, to_file = argv\n",
    "5 \n",
    "6 print(f\"Copying from {from_file} to {to_file}\")\n",
    "7 \n",
    "8 # we could do these two on one line, how? \n",
    "9 in_file = open(from_file) \n",
    "10 indata = in_file.read()\n",
    "11 \n",
    "12 print(f\"The input file is {len(indata)} bytes long\")\n",
    "13 \n",
    "14 print(f\"Does the output file exist? {exists(to_file)}\") \n",
    "15 print(\"Ready, hit RETURN to continue, CTRL-C to abort.\") \n",
    "16 input()\n",
    "17 \n",
    "18 out_file = open(to_file, 'w') \n",
    "19 out_file.write(indata)\n",
    "20 \n",
    "21 print(\"Alright, all done.\")\n",
    "22 \n",
    "23 out_file.close() \n",
    "24 in_file.close()"
   ]
  },
  {
   "cell_type": "markdown",
   "metadata": {},
   "source": [
    "# Names, Variables, Code, Functions"
   ]
  },
  {
   "cell_type": "markdown",
   "metadata": {},
   "source": [
    "Big title, right? I am about to introduce you to the function! Dum dum dah! Every programmer will go on and on about functions and all the different ideas about how they work and what they do, but I will give you the simplest explanation you can use right now.\n",
    "Functions do three things:\n",
    "1. They name pieces of code the way variables name strings and numbers.\n",
    "2. They take arguments the way your scripts take argv.\n",
    "3. Using 1 and 2, they let you make your own ”mini-scripts” or ”tiny commands.”\n",
    "You can create a function by using the word def in Python. I’m going to have you make four different functions that work like your scripts, and I’ll then show you how each one is related.\n"
   ]
  },
  {
   "cell_type": "code",
   "execution_count": null,
   "metadata": {},
   "outputs": [],
   "source": [
    "1 # this one is like your scripts with argv \n",
    "2 def print_two(*args): \n",
    "3 arg1, arg2 = args \n",
    "4 print(f\"arg1: {arg1}, arg2: {arg2}\")\n",
    "5 \n",
    "6 # ok, that *args is actually pointless, we can just do this \n",
    "7 def print_two_again(arg1, arg2): \n",
    "8 print(f\"arg1: {arg1}, arg2: {arg2}\")\n",
    "9 \n",
    "10 # this just takes one argument \n",
    "11 def print_one(arg1): \n",
    "12 print(f\"arg1: {arg1}\")\n",
    "13 \n",
    "14 # this one takes no arguments \n",
    "15 def print_none(): \n",
    "16 print(\"I got nothin'.\")\n",
    "17\n",
    "18 \n",
    "19 print_two(\"Zed\",\"Shaw\") \n",
    "20 print_two_again(\"Zed\",\"Shaw\") \n",
    "21 print_one(\"First!\") \n",
    "22 print_none()"
   ]
  },
  {
   "cell_type": "markdown",
   "metadata": {},
   "source": [
    "# Functions and Variables\n"
   ]
  },
  {
   "cell_type": "markdown",
   "metadata": {},
   "source": [
    "Functions may have been a mind-blowing amount of information, but do not worry. Just keep doing these exercises and going through your checklist from the last exercise and you will eventually get it.\n",
    "There is one tiny point that you might not have realized, which we’ll reinforce right now. The variables in your function are not connected to the variables in your script. Here’s an exercise to get you thinking about this:\n"
   ]
  },
  {
   "cell_type": "code",
   "execution_count": null,
   "metadata": {},
   "outputs": [],
   "source": [
    "1 def cheese_and_crackers(cheese_count, boxes_of_crackers):\n",
    "2 print(f\"You have {cheese_count} cheeses!\") \n",
    "3 print(f\"You have {boxes_of_crackers} boxes of crackers!\") \n",
    "4 print(\"Man that's enough for a party!\") \n",
    "5 print(\"Get a blanket.\\n\")\n",
    "6\n",
    "7 \n",
    "8 print(\"We can just give the function numbers directly:\") \n",
    "9 cheese_and_crackers(20, 30)\n",
    "10\n",
    "11 \n",
    "12 print(\"OR, we can use variables from our script:\") \n",
    "13 amount_of_cheese = 10 \n",
    "14 amount_of_crackers = 50\n",
    "15 \n",
    "16 cheese_and_crackers(amount_of_cheese, amount_of_crackers)\n",
    "17\n",
    "18 \n",
    "19 print(\"We can even do math inside too:\") \n",
    "20 cheese_and_crackers(10 + 20, 5 + 6)\n",
    "21\n",
    "22 \n",
    "23 print(\"And we can combine the two, variables and math:\") \n",
    "24 cheese_and_crackers(amount_of_cheese + 100, amount_of_crackers + 1000)"
   ]
  },
  {
   "cell_type": "markdown",
   "metadata": {},
   "source": [
    "# Functions and Files\n"
   ]
  },
  {
   "cell_type": "markdown",
   "metadata": {},
   "source": [
    "Remember your checklist for functions, then do this exercise paying close attention to how functions and files can work together to make useful stuff"
   ]
  },
  {
   "cell_type": "code",
   "execution_count": null,
   "metadata": {},
   "outputs": [],
   "source": [
    "1 from sys import argv\n",
    "2 \n",
    "3 script, input_file = argv\n",
    "4 \n",
    "5 def print_all(f): \n",
    "6 print(f.read())\n",
    "7 \n",
    "8 def rewind(f): \n",
    "9 f.seek(0)\n",
    "10 \n",
    "11 def print_a_line(line_count, f): \n",
    "12 print(line_count, f.readline())\n",
    "13 \n",
    "14 current_file = open(input_file)\n",
    "15 \n",
    "16 print(\"First let's print the whole file:\\n\")\n",
    "17 \n",
    "18 print_all(current_file)\n",
    "19 \n",
    "20 print(\"Now let's rewind, kind of like a tape.\")\n",
    "21 \n",
    "22 rewind(current_file)\n",
    "23 \n",
    "24 print(\"Let's print three lines:\")\n",
    "25 \n",
    "26 current_line = 1 \n",
    "27 print_a_line(current_line, current_file)\n",
    "28 \n",
    "29 current_line = current_line + 1 \n",
    "30 print_a_line(current_line, current_file)\n",
    "31 \n",
    "32 current_line = current_line + 1 \n",
    "33 print_a_line(current_line, current_file)"
   ]
  },
  {
   "cell_type": "markdown",
   "metadata": {},
   "source": [
    "# Functions Can Return Something"
   ]
  },
  {
   "cell_type": "markdown",
   "metadata": {},
   "source": [
    "You have been using the = character to name variables and set them to numbers or strings. We’re now going to blow your mind again by showing you how to use = and a new Python word return to set variables to be a value from a function. There will be one thing to pay close attention to, but first type this in:\n"
   ]
  },
  {
   "cell_type": "code",
   "execution_count": null,
   "metadata": {},
   "outputs": [],
   "source": [
    "1 def add(a, b): \n",
    "2 print(f\"ADDING {a} + {b}\") \n",
    "3 return a + b\n",
    "4 \n",
    "5 def subtract(a, b): \n",
    "6 print(f\"SUBTRACTING {a} - {b}\") \n",
    "7 return a - b\n",
    "8 \n",
    "9 def multiply(a, b): \n",
    "10 print(f\"MULTIPLYING {a} * {b}\") \n",
    "11 return a * b\n",
    "12 \n",
    "13 def divide(a, b): \n",
    "14 print(f\"DIVIDING {a} / {b}\") \n",
    "15 return a / b\n",
    "16\n",
    "17 \n",
    "18 print(\"Let's do some math with just functions!\")\n",
    "19 \n",
    "20 age = add(30, 5) \n",
    "21 height = subtract(78, 4) \n",
    "22 weight = multiply(90, 2) \n",
    "23 iq = divide(100, 2)\n",
    "24 \n",
    "25 print(f\"Age: {age}, Height: {height}, Weight: {weight}, IQ: {iq}\")\n",
    "26\n",
    "27 \n",
    "28 # A puzzle for the extra credit, type it in anyway. \n",
    "29 print(\"Here is a puzzle.\")\n",
    "30 \n",
    "31 what = add(age, subtract(height, multiply(weight, divide(iq, 2))))\n",
    "32 \n",
    "33 print(\"That becomes: \", what, \"Can you do it by hand?\")"
   ]
  }
 ],
 "metadata": {
  "kernelspec": {
   "display_name": "Python 3",
   "language": "python",
   "name": "python3"
  },
  "language_info": {
   "codemirror_mode": {
    "name": "ipython",
    "version": 3
   },
   "file_extension": ".py",
   "mimetype": "text/x-python",
   "name": "python",
   "nbconvert_exporter": "python",
   "pygments_lexer": "ipython3",
   "version": "3.7.3"
  }
 },
 "nbformat": 4,
 "nbformat_minor": 2
}
