{
 "cells": [
  {
   "cell_type": "code",
   "execution_count": 3,
   "metadata": {},
   "outputs": [
    {
     "name": "stdout",
     "output_type": "stream",
     "text": [
      "> How many names would you like to enter? 4\n",
      "> Introduce the name: jaime\n",
      "> Introduce the name: antonio\n",
      "> Introduce the name: victor\n",
      "> Introduce the name: noe\n",
      "> You must ask for a name number! 3\n",
      " Your name is: noe\n"
     ]
    }
   ],
   "source": [
    "v1 = int(input(\"> How many names would you like to enter? \"))\n",
    "v2 = []\n",
    "v10 = 0\n",
    "for i in range(0, v1):\n",
    "    x = input(\"> Introduce the name: \")\n",
    "    v2.append(x)\n",
    "    \n",
    "while v10 == 1 or v10 == 0:\n",
    "    v3 = int(input(\"> You must ask for a name number! \"))\n",
    "    if v3 >= v1:\n",
    "        print(\"> It's a wrong number!\")\n",
    "        v10 = 1\n",
    "    else:\n",
    "        if v3 < v1:\n",
    "            print(\" Your name is:\",v2[v3])\n",
    "            v10 = 2\n",
    "        else:\n",
    "            print(\"See you later\")\n",
    "            v10 = 2"
   ]
  },
  {
   "cell_type": "code",
   "execution_count": null,
   "metadata": {},
   "outputs": [],
   "source": []
  }
 ],
 "metadata": {
  "kernelspec": {
   "display_name": "Python 3",
   "language": "python",
   "name": "python3"
  },
  "language_info": {
   "codemirror_mode": {
    "name": "ipython",
    "version": 3
   },
   "file_extension": ".py",
   "mimetype": "text/x-python",
   "name": "python",
   "nbconvert_exporter": "python",
   "pygments_lexer": "ipython3",
   "version": "3.7.3"
  }
 },
 "nbformat": 4,
 "nbformat_minor": 2
}
