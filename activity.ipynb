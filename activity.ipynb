{
 "cells": [
  {
   "cell_type": "markdown",
   "metadata": {},
   "source": [
    "# Example"
   ]
  },
  {
   "cell_type": "code",
   "execution_count": null,
   "metadata": {},
   "outputs": [],
   "source": [
    "age=27'\n",
    "\n",
    "print(f\"I am {age}\")\n"
   ]
  },
  {
   "cell_type": "code",
   "execution_count": 1,
   "metadata": {},
   "outputs": [
    {
     "name": "stdout",
     "output_type": "stream",
     "text": [
      "How old are you?19\n"
     ]
    }
   ],
   "source": [
    "print(\"How old are you?\", end='')\n",
    "age=input()"
   ]
  },
  {
   "cell_type": "code",
   "execution_count": 2,
   "metadata": {},
   "outputs": [
    {
     "name": "stdout",
     "output_type": "stream",
     "text": [
      "What is your name?Victor\n",
      "Hi Victor\n"
     ]
    }
   ],
   "source": [
    "name= input(\"What is your name?\")\n",
    "print(f\"Hi {name}\")\n"
   ]
  },
  {
   "cell_type": "markdown",
   "metadata": {},
   "source": [
    "# Exercise"
   ]
  },
  {
   "cell_type": "code",
   "execution_count": 3,
   "metadata": {
    "scrolled": false
   },
   "outputs": [
    {
     "name": "stdout",
     "output_type": "stream",
     "text": [
      "Student 1\n",
      "How old are you?19\n",
      "Student 2\n",
      "How old are you?19\n",
      "Student 3\n",
      "How old are you?19\n",
      "The media of the ages is 19.0\n"
     ]
    }
   ],
   "source": [
    "print(\"Student 1\")\n",
    "print(\"How old are you?\", end='')\n",
    "age1=int(input())\n",
    "\n",
    "print(\"Student 2\")\n",
    "print(\"How old are you?\", end='')\n",
    "age2=int(input())\n",
    "\n",
    "print(\"Student 3\")\n",
    "print(\"How old are you?\", end='')\n",
    "age3=int(input())\n",
    "\n",
    "total= age1 + age2 + age3\n",
    "media= total/3\n",
    "\n",
    "print(f\"The media of the ages is {media}\")\n",
    "\n",
    "\n"
   ]
  },
  {
   "cell_type": "code",
   "execution_count": null,
   "metadata": {},
   "outputs": [],
   "source": []
  }
 ],
 "metadata": {
  "kernelspec": {
   "display_name": "Python 3",
   "language": "python",
   "name": "python3"
  },
  "language_info": {
   "codemirror_mode": {
    "name": "ipython",
    "version": 3
   },
   "file_extension": ".py",
   "mimetype": "text/x-python",
   "name": "python",
   "nbconvert_exporter": "python",
   "pygments_lexer": "ipython3",
   "version": "3.7.3"
  }
 },
 "nbformat": 4,
 "nbformat_minor": 2
}
