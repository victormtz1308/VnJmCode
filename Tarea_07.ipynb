{
 "cells": [
  {
   "cell_type": "code",
   "execution_count": 1,
   "metadata": {},
   "outputs": [
    {
     "name": "stdout",
     "output_type": "stream",
     "text": [
      "> How many data would you like to introduce? 10\n",
      "> Enter the data:  1\n",
      "15\n",
      "> Enter the data:  2\n",
      "16\n",
      "> Enter the data:  3\n",
      "15\n",
      "> Enter the data:  4\n",
      "14\n",
      "> Enter the data:  5\n",
      "12\n",
      "> Enter the data:  6\n",
      "13\n",
      "> Enter the data:  7\n",
      "10\n",
      "> Enter the data:  8\n",
      "10\n",
      "> Enter the data:  9\n",
      "10\n",
      "> Enter the data:  10\n",
      "10\n",
      "> Chose Between Simple Mean (1), Mode (2) And Standard Deviation (3): \n",
      "> 10\n",
      "> You Make A Mistake, Please Try Again \n",
      "> 4\n",
      "> You Make A Mistake, Please Try Again \n",
      "> 2\n",
      "> The Mode Is:  10\n"
     ]
    }
   ],
   "source": [
    "from collections import Counter\n",
    "import math\n",
    "\n",
    "v1 = int(input(\"> How many data would you like to introduce? \"))\n",
    "l1 = []\n",
    "v10 = 0\n",
    "v11 = v1\n",
    "vv1 = v1\n",
    "c1 = 1\n",
    "l3 = 0\n",
    "n1 = 0\n",
    "a1 = 1\n",
    "d = 0\n",
    "\n",
    "while v1 >= 1:\n",
    "\n",
    "    print(\"> Enter the data: \" ,c1)\n",
    "    l2 = int(input())\n",
    "    l1.append(l2)\n",
    "    c1 = c1 + 1 ## Enter the data\n",
    "    v1 = v1 - 1 ## Ciclo\n",
    "    l3 = l3 + l1[v10] ## Sumatoria\n",
    "    v10 = v10 + 1 ## Suma de Sumatoria\n",
    "\n",
    "p1 = l3 / vv1 ## Promedio\n",
    "\n",
    "while v11 >= 1:\n",
    "    n1 = n1 + (l1[a1-1] - p1) ** 2\n",
    "    v11 = v11 - 1\n",
    "    a1 = a1 + 1\n",
    "\n",
    "m1 = n1 / vv1\n",
    "m11 = math.sqrt(m1)\n",
    "g1=Counter(l1).most_common()[0][0]\n",
    "\n",
    "\n",
    "print(\"> Chose Between Simple Mean (1), Mode (2) And Standard Deviation (3): \")\n",
    "while d == 0:\n",
    "    o = int(input(\"> \"))\n",
    "    if o == 1:\n",
    "        print(\"> The Simple Mean is: \" , p1)\n",
    "        d = 1\n",
    "    elif o == 2:\n",
    "        print(\"> The Mode Is: \" , g1)\n",
    "        d = 1\n",
    "    elif o == 3:\n",
    "        print(\"> The Standard Deviation: \" , m11)\n",
    "        d = 1\n",
    "    else:\n",
    "        print(\"> You Make A Mistake, Please Try Again \")\n",
    "        d = 0\n"
   ]
  },
  {
   "cell_type": "code",
   "execution_count": null,
   "metadata": {},
   "outputs": [],
   "source": []
  }
 ],
 "metadata": {
  "kernelspec": {
   "display_name": "Python 3",
   "language": "python",
   "name": "python3"
  },
  "language_info": {
   "codemirror_mode": {
    "name": "ipython",
    "version": 3
   },
   "file_extension": ".py",
   "mimetype": "text/x-python",
   "name": "python",
   "nbconvert_exporter": "python",
   "pygments_lexer": "ipython3",
   "version": "3.7.3"
  }
 },
 "nbformat": 4,
 "nbformat_minor": 2
}
