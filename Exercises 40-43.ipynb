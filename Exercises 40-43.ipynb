{
 "cells": [
  {
   "cell_type": "markdown",
   "metadata": {},
   "source": [
    "# Modules, Classes, and Objects\n"
   ]
  },
  {
   "cell_type": "markdown",
   "metadata": {},
   "source": [
    "Python is called an ”object-oriented programming language.” This means there is a construct in Python\n",
    "called a class that lets you structure your software in a particular way. Using classes, you can add consistency to your programs so that they can be used in a cleaner way. At least that’s the theory.\n",
    "\n"
   ]
  },
  {
   "cell_type": "markdown",
   "metadata": {},
   "source": [
    "## 1. Modules Are Like Dictionaries"
   ]
  },
  {
   "cell_type": "markdown",
   "metadata": {},
   "source": [
    "The dictionary is created and used and that it is a way to map one thing to another. That\n",
    "means if you have a dictionary with a key ”apple” and you want to get it then you do this:"
   ]
  },
  {
   "cell_type": "code",
   "execution_count": null,
   "metadata": {},
   "outputs": [],
   "source": [
    "mystuff = {'apple': \"I AM APPLES!\"}\n",
    "print(mystuff['apple'])"
   ]
  },
  {
   "cell_type": "markdown",
   "metadata": {},
   "source": [
    "Keep this idea of ”get X from Y” in your head, and now think about modules. You’ve made a few so\n",
    "far, and you should know they are:\n",
    "    1. A Python file with some functions or variables in it ..\n",
    "    2. You import that file.\n",
    "    3. And you can access the functions or variables in that module with the . (dot) operator.\n",
    "In a module that I decide to name mystuff.py and I put a function in it called apple. Here’s\n",
    "the module mystuff.py:"
   ]
  },
  {
   "cell_type": "code",
   "execution_count": null,
   "metadata": {},
   "outputs": [],
   "source": [
    "# this goes in mystuff.py\n",
    "def apple():\n",
    "    print(\"I AM APPLES!\")"
   ]
  },
  {
   "cell_type": "markdown",
   "metadata": {},
   "source": [
    "Once I have this code, I can use the module MyStuff with import and then access the apple function:"
   ]
  },
  {
   "cell_type": "code",
   "execution_count": null,
   "metadata": {},
   "outputs": [],
   "source": [
    "import mystuff\n",
    "mystuff.apple()"
   ]
  },
  {
   "cell_type": "markdown",
   "metadata": {},
   "source": [
    "I could also put a variable in it named tangerine:"
   ]
  },
  {
   "cell_type": "code",
   "execution_count": null,
   "metadata": {},
   "outputs": [],
   "source": [
    "def apple():\n",
    "print(\"I AM APPLES!\")\n",
    " # this is just a variable\n",
    "tangerine = \"Living reflection of a dream\""
   ]
  },
  {
   "cell_type": "markdown",
   "metadata": {},
   "source": [
    "I can access that the same way:"
   ]
  },
  {
   "cell_type": "code",
   "execution_count": null,
   "metadata": {},
   "outputs": [],
   "source": [
    "import mystuff\n",
    "\n",
    "mystuff.apple()\n",
    "print(mystuff.tangerine)"
   ]
  },
  {
   "cell_type": "markdown",
   "metadata": {},
   "source": [
    "Refer back to the dictionary, and you should start to see how this is similar to using a dictionary, but the\n",
    "syntax is different:"
   ]
  },
  {
   "cell_type": "code",
   "execution_count": null,
   "metadata": {},
   "outputs": [],
   "source": [
    "mystuff['apple'] # get apple from dict\n",
    "mystuff.apple() # get apple from the module\n",
    "mystuff.tangerine # same thing, it's just a variable"
   ]
  },
  {
   "cell_type": "markdown",
   "metadata": {},
   "source": [
    "## 2. Classes Are Like Modules"
   ]
  },
  {
   "cell_type": "markdown",
   "metadata": {},
   "source": [
    "Think about a module as a specialized dictionary that can store Python code so you can access\n",
    "it with the . operator. Python also has another construct that serves a similar purpose called a class. A\n",
    "class is a way to take a grouping of functions and data and place them inside a container so you can\n",
    "access them with the . (dot) operator.\n",
    "\n",
    "To create a class just like the mystuff module, do something like this:"
   ]
  },
  {
   "cell_type": "code",
   "execution_count": null,
   "metadata": {},
   "outputs": [],
   "source": [
    "class MyStuff(object):\n",
    "\n",
    "def __init__(self):\n",
    "self.tangerine = \"And now a thousand years between\"\n",
    "\n",
    "def apple(self):\n",
    "print(\"I AM CLASSY APPLES!\")"
   ]
  },
  {
   "cell_type": "markdown",
   "metadata": {},
   "source": [
    "## 3. Objects Are Like Import"
   ]
  },
  {
   "cell_type": "markdown",
   "metadata": {},
   "source": [
    "If a class is like a ”mini-module,” then there has to be a concept similar to import but for classes. That\n",
    "concept is called ”instantiate”, which is just a fancy, obnoxious, overly smart way to say ”create.” When\n",
    "you instantiate a class what you get is called an object.\n",
    "\n",
    "You instantiate (create) a class by calling the class like it’s a function, like this:"
   ]
  },
  {
   "cell_type": "code",
   "execution_count": null,
   "metadata": {},
   "outputs": [],
   "source": [
    "thing = MyStuff()\n",
    "thing.apple()\n",
    "print(thing.tangerine)"
   ]
  },
  {
   "cell_type": "markdown",
   "metadata": {},
   "source": [
    "This is all the explanations:"
   ]
  },
  {
   "cell_type": "code",
   "execution_count": null,
   "metadata": {},
   "outputs": [],
   "source": [
    "# dict style\n",
    "mystuff['apples']\n",
    "\n",
    "# module style\n",
    "mystuff.apples()\n",
    "print(mystuff.tangerine)\n",
    "\n",
    "# class style\n",
    "thing = MyStuff()\n",
    "thing.apples()\n",
    "print(thing.tangerine)"
   ]
  },
  {
   "cell_type": "markdown",
   "metadata": {},
   "source": [
    "# Learning to Speak Object-Oriented\n",
    "\n",
    "\n",
    "\n"
   ]
  },
  {
   "cell_type": "markdown",
   "metadata": {},
   "source": [
    "## Word Drills"
   ]
  },
  {
   "cell_type": "markdown",
   "metadata": {},
   "source": [
    "-Class: Tell Python to make a new type of thing.\n",
    "\n",
    "-Object: Two meanings: the most basic type of thing, and any instance of some thing.\n",
    "\n",
    "-Instance: What you get when you tell Python to create a class.\n",
    "\n",
    "-def: How you define a function inside a class.\n",
    "\n",
    "-self: Inside the functions in a class, self is a variable for the instance/object being accessed.\n",
    "\n",
    "-inheritance: The concept that one class can inherit traits from another class, much like you and your\n",
    "parents.\n",
    "\n",
    "-composition: The concept that a class can be composed of other classes as parts, much like how a car has\n",
    "wheels.\n",
    "\n",
    "-attribute: A property classes have that are from composition and are usually variables.\n",
    "\n",
    "-is-a: A phrase to say that something inherits from another, as in a ”salmon” is-a ”fish.”\n",
    "\n",
    "-has-a: A phrase to say that something is composed of other things or has a trait, as in ”a salmon has-a\n",
    "mouth.”"
   ]
  },
  {
   "cell_type": "markdown",
   "metadata": {},
   "source": [
    "Take some time to make flash cards for these terms and memorize them. As usual this won’t make too\n",
    "much sense until after you are finished with this exercise, but you need to know the base words first."
   ]
  },
  {
   "cell_type": "markdown",
   "metadata": {},
   "source": [
    "## Phrase Drills\n",
    "\n",
    "\n",
    "\n",
    "\n",
    "\n"
   ]
  },
  {
   "cell_type": "markdown",
   "metadata": {},
   "source": [
    "Next I have a list of Python code snippets on the left, and the English sentences for them:\n",
    "\n",
    "class X(Y) ”Make a class named X that is-a Y.”\n",
    "\n",
    "class X(object): def __init__(self, J) ”class X has-a __init__ that takes self and J parameters.”\n",
    "\n",
    "class X(object): def M(self, J) ”class X has-a function named M that takes self and J parameters.”\n",
    "\n",
    "foo = X() ”Set foo to an instance of class X.”\n",
    "\n",
    "foo.M(J) ”From foo, get the M function, and call it with parameters self, J.”\n",
    "\n",
    "foo.K = Q ”From foo, get the K attribute, and set it to Q.”"
   ]
  },
  {
   "cell_type": "markdown",
   "metadata": {},
   "source": [
    "## Combined Drills"
   ]
  },
  {
   "cell_type": "markdown",
   "metadata": {},
   "source": [
    "The final preparation for you is to combine the words drills with the phrase drills. What I want you to\n",
    "do for this drill is this:\n",
    "1. Take a phrase card and drill it.\n",
    "2. Flip it over and read the sentence, and for each word in the sentence that is in your words drills, get that card.\n",
    "3. Drill those words for that sentence.\n",
    "4. Keep going until you are bored, then take a break and do it again."
   ]
  },
  {
   "cell_type": "markdown",
   "metadata": {},
   "source": [
    "This is an example:"
   ]
  },
  {
   "cell_type": "code",
   "execution_count": null,
   "metadata": {},
   "outputs": [],
   "source": [
    "import random\n",
    "from urllib.request import urlopen\n",
    "import sys\n",
    "\n",
    "WORD_URL = \"http://learncodethehardway.org/words.txt\"\n",
    "WORDS = []\n",
    "\n",
    "PHRASES = {\n",
    "    \"class %%%(%%%):\":\n",
    "    \"Make a class named %%% that is-a %%%.\",\n",
    "    \"class %%%(object):\\n\\tdef __init__(self, ***)\" :\n",
    "    \"class %%% has-a __init__ that takes self and *** params.\",\n",
    "    \"class %%%(object):\\n\\tdef ***(self, @@@)\":\n",
    "    \"class %%% has-a function *** that takes self and @@@ params.\",\n",
    "    \"*** = %%%()\":\n",
    "    \"Set *** to an instance of class %%%.\",\n",
    "    \"***.***(@@@)\":\n",
    "    \"From *** get the *** function, call it with params self, @@@.\",\n",
    "    \"***.*** = '***'\":\n",
    "    \"From *** get the *** attribute and set it to '***'.\"\n",
    "    }\n",
    "\n",
    "# do they want to drill phrases first\n",
    "if len(sys.argv) == 2 and sys.argv[1] == \"english\":\n",
    "PHRASE_FIRST = True\n",
    "else:\n",
    "PHRASE_FIRST = False\n",
    "\n",
    "# load up the words from the website\n",
    "for word in urlopen(WORD_URL).readlines():\n",
    "WORDS.append(str(word.strip(), encoding=\"utf-8\"))\n",
    "\n",
    "\n",
    "def convert(snippet, phrase):\n",
    "class_names = [w.capitalize() for w in\n",
    "random.sample(WORDS, snippet.count(\"%%%\"))]\n",
    "other_names = random.sample(WORDS, snippet.count(\"***\"))\n",
    "results = []\n",
    "param_names = []\n",
    "\n",
    "for i in range(0, snippet.count(\"@@@\")):\n",
    "param_count = random.randint(1,3)\n",
    "param_names.append(', '.join(\n",
    "random.sample(WORDS, param_count)))\n",
    "\n",
    "for sentence in snippet, phrase:\n",
    "result = sentence[:]\n",
    "\n",
    "# fake class names\n",
    "for word in class_names:\n",
    "result = result.replace(\"%%%\", word, 1)\n",
    "\n",
    "# fake other names\n",
    "for word in other_names:\n",
    "result = result.replace(\"***\", word, 1)\n",
    "\n",
    "# fake parameter lists\n",
    "for word in param_names:\n",
    "result = result.replace(\"@@@\", word, 1)\n",
    "\n",
    "results.append(result)\n",
    "\n",
    "return results\n",
    "\n",
    "\n",
    "# keep going until they hit CTRL-D\n",
    "try:\n",
    "while True:\n",
    "snippets = list(PHRASES.keys())\n",
    "random.shuffle(snippets)\n",
    "\n",
    "for snippet in snippets:\n",
    "phrase = PHRASES[snippet]\n",
    "question, answer = convert(snippet, phrase)\n",
    "if PHRASE_FIRST:\n",
    "question, answer = answer, question\n",
    "\n",
    "print(question)\n",
    "\n",
    "\n",
    "input(\"> \")\n",
    "print(f\"ANSWER: {answer}\\n\\n\")\n",
    "except EOFError:\n",
    "print(\"\\nBye\")\n"
   ]
  },
  {
   "cell_type": "markdown",
   "metadata": {},
   "source": [
    "# Is-A, Has-A, Objects, and Classes\n"
   ]
  },
  {
   "cell_type": "markdown",
   "metadata": {},
   "source": [
    "## How This Looks in Code\n",
    "\n",
    "This is a weird concept, but to be very honest you only have to worry about it when you make new\n",
    "classes and when you use a class. I will show you two tricks to help you figure out whether something is\n",
    "a class or an object.\n",
    "First, you need to learn two catch phrases ”is-a” and ”has-a.” You use the phrase is-a when you talk\n",
    "about objects and classes being related to each other by a class relationship. You use has-a when you\n",
    "talk about objects and classes that are related only because they reference each other.\n",
    "Now, go through this piece of code and replace each ##?? comment with a comment that says whether\n",
    "the next line represents an is-a or a has-a relationship and what that relationship is. In the beginning of\n",
    "the code, I’ve laid out a few examples, so you just have to write the remaining ones.\n",
    "Remember, is-a is the relationship between fish and salmon, while has-a is the relationship between\n",
    "salmon and gills."
   ]
  },
  {
   "cell_type": "code",
   "execution_count": null,
   "metadata": {},
   "outputs": [],
   "source": [
    "1 ## Animal is-a object (yes, sort of confusing) look at the extra credit\n",
    "2 class Animal(object):\n",
    "3 pass\n",
    "4\n",
    "5 ## ??\n",
    "6 class Dog(Animal):\n",
    "7\n",
    "8 def __init__(self, name):\n",
    "9 ## ??\n",
    "10 self.name = name\n",
    "11\n",
    "12 ## ??\n",
    "13 class Cat(Animal):\n",
    "14\n",
    "15 def __init__(self, name):\n",
    "16 ## ??\n",
    "17 self.name = name\n",
    "18\n",
    "19 ## ??\n",
    "20 class Person(object):\n",
    "21\n",
    "22 def __init__(self, name):\n",
    "23 ## ??\n",
    "24 self.name = name\n",
    "25\n",
    "26 ## Person has-a pet of some kind\n",
    "27 self.pet = None\n",
    "28\n",
    "29 ## ??\n",
    "30 class Employee(Person):\n",
    "31\n",
    "32 def __init__(self, name, salary):\n",
    "33 ## ?? hmm what is this strange magic?\n",
    "34 super(Employee, self).__init__(name)\n",
    "35 ## ??\n",
    "36 self.salary = salary\n",
    "37\n",
    "38 ## ??\n",
    "39 class Fish(object):\n",
    "40 pass\n",
    "41\n",
    "42 ## ??\n",
    "43 class Salmon(Fish):\n",
    "44 pass\n",
    "45\n",
    "46 ## ??\n",
    "47 class Halibut(Fish):\n",
    "48 pass\n",
    "49\n",
    "50\n",
    "51 ## rover is-a Dog\n",
    "52 rover = Dog(\"Rover\")\n",
    "53\n",
    "54 ## ??\n",
    "55 satan = Cat(\"Satan\")\n",
    "56\n",
    "57 ## ??\n",
    "58 mary = Person(\"Mary\")\n",
    "59\n",
    "60 ## ??\n",
    "61 mary.pet = satan\n",
    "62\n",
    "63 ## ??\n",
    "64 frank = Employee(\"Frank\", 120000)\n",
    "65\n",
    "66 ## ??\n",
    "67 frank.pet = rover\n",
    "68\n",
    "69 ## ??\n",
    "70 flipper = Fish()\n",
    "71\n",
    "72 ## ??\n",
    "73 crouse = Salmon()\n",
    "74\n",
    "75 ## ??\n",
    "76 harry = Halibut()"
   ]
  },
  {
   "cell_type": "markdown",
   "metadata": {},
   "source": [
    "# Basic Object-Oriented Analysis and Design"
   ]
  },
  {
   "cell_type": "markdown",
   "metadata": {},
   "source": [
    "A process to use when you want to build something using Python, specifically\n",
    "with object-oriented programming (OOP). What I mean by a ”process” is that I’ll give you a set of steps\n",
    "that you do in order but that you aren’t meant to be a slave to or that will totally always work for\n",
    "every problem. They are just a good starting point for many programming problems and shouldn’t be\n",
    "considered the only way to solve these types of problems. This process is just one way to do it that you\n",
    "can follow.\n",
    "The process is as follows:\n",
    "1. Write or draw about the problem.\n",
    "2. Extract key concepts from 1 and research them.\n",
    "3. Create a class hierarchy and object map for the concepts.\n",
    "4. Code the classes and a test to run them.\n",
    "5. Repeat and refine."
   ]
  },
  {
   "cell_type": "markdown",
   "metadata": {},
   "source": [
    "## Code the Classes and a Test to Run Them\n",
    "Once I have this tree of classes and some of the functions I open up a source file in my editor and try to\n",
    "write the code for it. Usually I’ll just copy-paste the tree into the source file and then edit it into classes.\n",
    "Here’s a small example of how this might look at first, with a simple little test at the end of the file.\n",
    "ex43_classes.py\n"
   ]
  },
  {
   "cell_type": "code",
   "execution_count": null,
   "metadata": {},
   "outputs": [],
   "source": [
    "1 class Scene(object):\n",
    "2\n",
    "3 def enter(self):\n",
    "4 pass\n",
    "5\n",
    "6\n",
    "7 class Engine(object):\n",
    "8\n",
    "9 def __init__(self, scene_map):\n",
    "10 pass\n",
    "11\n",
    "12 def play(self):\n",
    "13 pass\n",
    "14\n",
    "15 class Death(Scene):\n",
    "16\n",
    "17 def enter(self):\n",
    "18 pass\n",
    "19\n",
    "20 class CentralCorridor(Scene):\n",
    "21\n",
    "22 def enter(self):\n",
    "23 pass\n",
    "24\n",
    "25 class LaserWeaponArmory(Scene):\n",
    "26\n",
    "27 def enter(self):\n",
    "28 pass\n",
    "29\n",
    "30 class TheBridge(Scene):\n",
    "31\n",
    "32 def enter(self):\n",
    "33 pass\n",
    "34\n",
    "35 class EscapePod(Scene):\n",
    "36\n",
    "37 def enter(self):\n",
    "38 pass\n",
    "39\n",
    "40\n",
    "41 class Map(object):\n",
    "42\n",
    "43 def __init__(self, start_scene):\n",
    "44 pass\n",
    "45\n",
    "46 def next_scene(self, scene_name):\n",
    "47 pass\n",
    "48\n",
    "49 def opening_scene(self):\n",
    "50 pass\n",
    "51\n",
    "52\n",
    "53 a_map = Map('central_corridor')\n",
    "54 a_game = Engine(a_map)\n",
    "55 a_game.play()"
   ]
  }
 ],
 "metadata": {
  "kernelspec": {
   "display_name": "Python 3",
   "language": "python",
   "name": "python3"
  },
  "language_info": {
   "codemirror_mode": {
    "name": "ipython",
    "version": 3
   },
   "file_extension": ".py",
   "mimetype": "text/x-python",
   "name": "python",
   "nbconvert_exporter": "python",
   "pygments_lexer": "ipython3",
   "version": "3.7.3"
  }
 },
 "nbformat": 4,
 "nbformat_minor": 2
}
