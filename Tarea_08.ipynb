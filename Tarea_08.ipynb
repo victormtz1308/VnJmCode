{
 "cells": [
  {
   "cell_type": "markdown",
   "metadata": {},
   "source": [
    "## Trimmed Mean"
   ]
  },
  {
   "cell_type": "code",
   "execution_count": 1,
   "metadata": {},
   "outputs": [
    {
     "name": "stdout",
     "output_type": "stream",
     "text": [
      "How much numbers do you want to introduce? 6\n",
      "Introduce a number: 1\n",
      "Introduce a number: 2\n",
      "Introduce a number: 3\n",
      "Introduce a number: 4\n",
      "Introduce a number: 5\n",
      "Introduce a number: 6\n",
      "Write the percent that you want: 30\n",
      "the numbers that is going to remove is: 2\n",
      "the list in order acording the number is: [1, 2, 3, 4, 5, 6]\n",
      "the list without the percent is : [3, 4]\n",
      "the sample mean is: 3.5\n"
     ]
    }
   ],
   "source": [
    "v1=0\n",
    "values = int(input(\"How much numbers do you want to introduce? \"))\n",
    "ages = []\n",
    "total = 0\n",
    "for i in range(0,values):\n",
    "    x = int(input(\"Introduce a number: \"))\n",
    "    ages.append(x)\n",
    "trimmed = int(input(\"Write the percent that you want: \"))\n",
    "trimmeds = trimmed * .01 \n",
    "percent= round(values * trimmeds)\n",
    "\n",
    "if percent <= 0.5:\n",
    "    percent = 0\n",
    "elif percent > 0.5:\n",
    "    percent = round(percent)\n",
    "print (\"the numbers that is going to remove is:\", percent)\n",
    "\n",
    "org = sorted(ages)\n",
    "print(\"the list in order acording the number is:\",org)\n",
    "\n",
    "net = org[percent:values - percent]\n",
    "print(\"the list without the percent is :\",net)\n",
    "\n",
    "suma = sum(net)\n",
    "\n",
    "conte = len(net)\n",
    "\n",
    "sample = float(suma/conte)\n",
    "\n",
    "print(\"the sample mean is:\", sample)\n"
   ]
  },
  {
   "cell_type": "code",
   "execution_count": null,
   "metadata": {},
   "outputs": [],
   "source": []
  }
 ],
 "metadata": {
  "kernelspec": {
   "display_name": "Python 3",
   "language": "python",
   "name": "python3"
  },
  "language_info": {
   "codemirror_mode": {
    "name": "ipython",
    "version": 3
   },
   "file_extension": ".py",
   "mimetype": "text/x-python",
   "name": "python",
   "nbconvert_exporter": "python",
   "pygments_lexer": "ipython3",
   "version": "3.7.3"
  }
 },
 "nbformat": 4,
 "nbformat_minor": 2
}
